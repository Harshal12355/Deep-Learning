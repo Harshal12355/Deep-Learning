{
 "cells": [
  {
   "cell_type": "code",
   "execution_count": 8,
   "metadata": {},
   "outputs": [],
   "source": [
    "import numpy as np\n",
    "import torch\n",
    "import torch.optim as optim"
   ]
  },
  {
   "cell_type": "code",
   "execution_count": 4,
   "metadata": {},
   "outputs": [],
   "source": [
    "# defining the two functions\n",
    "\n",
    "def f1(x,y):\n",
    "    return x**2 + (0.1 * y**2)\n",
    "\n",
    "def f2(x, y):\n",
    "    return (((x-y)**2) / 2) + (0.1 * (((x+y)**2) / 2))"
   ]
  },
  {
   "cell_type": "code",
   "execution_count": 16,
   "metadata": {},
   "outputs": [],
   "source": [
    "x_f1 = torch.tensor(1.0, requires_grad=True)\n",
    "y_f1 = torch.tensor(1.0, requires_grad=True)\n",
    "\n",
    "x_f2 = torch.tensor(np.sqrt(2), requires_grad=True)\n",
    "y_f2 = torch.tensor(0.0, requires_grad=True)"
   ]
  },
  {
   "cell_type": "code",
   "execution_count": 17,
   "metadata": {},
   "outputs": [],
   "source": [
    "iterations = 2000\n",
    "lr = 1e-3\n",
    "\n",
    "optimizer_gd_f1 = optim.SGD([x_f1, y_f1], lr=lr)\n",
    "optimizer_gd_momentum_f1 = optim.SGD([x_f1, y_f1], lr=lr, momentum=0.9)\n",
    "optimizer_rmsprop_f1 = optim.RMSprop([x_f1, y_f1], lr=lr)\n",
    "optimizer_adam_f1 = optim.Adam([x_f1, y_f1], lr=lr)\n",
    "\n",
    "optimizer_adam_f2 = optim.Adam([x_f2, y_f2], lr=lr)\n",
    "optimizer_rmsprop_f2 = optim.RMSprop([x_f2, y_f2], lr=lr)\n",
    "optimizer_gd_momentum_f2 = optim.SGD([x_f2, y_f2], lr=lr, momentum=0.9)\n",
    "optimizer_gd_f2 = optim.SGD([x_f2, y_f2], lr=lr)\n"
   ]
  },
  {
   "cell_type": "code",
   "execution_count": 18,
   "metadata": {},
   "outputs": [],
   "source": [
    "def optimize(optimizer,x,y,f):\n",
    "    for i in range(iterations):\n",
    "        optimizer.zero_grad()\n",
    "        loss = f(x,y)\n",
    "        loss.backward()\n",
    "        optimizer.step()\n",
    "    return x, y, f(x,y)\n",
    "\n",
    "x_f1, y_f1, loss_f1_gd = optimize(optimizer_gd_f1, x_f1, y_f1, f1)\n",
    "x_f1, y_f1, loss_f1_gd_momentum = optimize(optimizer_gd_momentum_f1, x_f1, y_f1, f1)\n",
    "x_f1, y_f1, loss_f1_rmsprop = optimize(optimizer_rmsprop_f1, x_f1, y_f1, f1)\n",
    "x_f1, y_f1, loss_f1_adam = optimize(optimizer_adam_f1, x_f1, y_f1, f1)\n"
   ]
  },
  {
   "cell_type": "code",
   "execution_count": 19,
   "metadata": {},
   "outputs": [],
   "source": [
    "x_f1, y_f1, loss_f1_gd = optimize(optimizer_gd_f1, x_f1, y_f1, f1)"
   ]
  },
  {
   "cell_type": "code",
   "execution_count": null,
   "metadata": {},
   "outputs": [],
   "source": []
  }
 ],
 "metadata": {
  "kernelspec": {
   "display_name": "venv",
   "language": "python",
   "name": "python3"
  },
  "language_info": {
   "codemirror_mode": {
    "name": "ipython",
    "version": 3
   },
   "file_extension": ".py",
   "mimetype": "text/x-python",
   "name": "python",
   "nbconvert_exporter": "python",
   "pygments_lexer": "ipython3",
   "version": "3.10.11"
  }
 },
 "nbformat": 4,
 "nbformat_minor": 2
}
